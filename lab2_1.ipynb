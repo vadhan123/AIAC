{
  "nbformat": 4,
  "nbformat_minor": 0,
  "metadata": {
    "colab": {
      "provenance": [],
      "authorship_tag": "ABX9TyN7c7KPSaNd/6wml6es5gkw",
      "include_colab_link": true
    },
    "kernelspec": {
      "name": "python3",
      "display_name": "Python 3"
    },
    "language_info": {
      "name": "python"
    }
  },
  "cells": [
    {
      "cell_type": "markdown",
      "metadata": {
        "id": "view-in-github",
        "colab_type": "text"
      },
      "source": [
        "<a href=\"https://colab.research.google.com/github/vadhan123/AIAC/blob/main/lab2_1.ipynb\" target=\"_parent\"><img src=\"https://colab.research.google.com/assets/colab-badge.svg\" alt=\"Open In Colab\"/></a>"
      ]
    },
    {
      "cell_type": "markdown",
      "source": [
        "Task1: create a Python function that reads\n",
        "a list of numbers and calculates the mean, minimum, and\n",
        "maximum values .\n"
      ],
      "metadata": {
        "id": "usasuFsSXZfv"
      }
    },
    {
      "cell_type": "markdown",
      "source": [
        "Prompt:write a Python function that reads a list of numbers and calculates the mean, minimum, and maximum values ask the user to enter the values or numbers in list. ."
      ],
      "metadata": {
        "id": "LhZab3TNhG2k"
      }
    },
    {
      "cell_type": "code",
      "source": [
        "def calculate_stats_at_once():\n",
        "  \"\"\"Reads a list of numbers from the user entered at once and calculates the mean, minimum, and maximum.\"\"\"\n",
        "  while True:\n",
        "    user_input = input(\"Enter the list of numbers separated by spaces: \")\n",
        "    try:\n",
        "      numbers_str = user_input.split()\n",
        "      numbers = [float(num) for num in numbers_str]\n",
        "      break\n",
        "    except ValueError:\n",
        "      print(\"Invalid input. Please enter numbers separated by spaces.\")\n",
        "\n",
        "  if not numbers:\n",
        "    print(\"No numbers were entered.\")\n",
        "    return\n",
        "\n",
        "  mean = sum(numbers) / len(numbers)\n",
        "  minimum = min(numbers)\n",
        "  maximum = max(numbers)\n",
        "\n",
        "  print(f\"Mean: {mean}\")\n",
        "  print(f\"Minimum: {minimum}\")\n",
        "  print(f\"Maximum: {maximum}\")\n",
        "\n",
        "# Call the function to run it\n",
        "calculate_stats_at_once()"
      ],
      "metadata": {
        "colab": {
          "base_uri": "https://localhost:8080/"
        },
        "id": "i_wV5Ed_Y4S4",
        "outputId": "a88a7e53-642e-44f0-9ac2-946c6f5df10d"
      },
      "execution_count": null,
      "outputs": [
        {
          "output_type": "stream",
          "name": "stdout",
          "text": [
            "Enter the list of numbers separated by spaces: 1 2 4 5 6 7\n",
            "Mean: 4.166666666666667\n",
            "Minimum: 1.0\n",
            "Maximum: 7.0\n"
          ]
        }
      ]
    },
    {
      "cell_type": "markdown",
      "source": [
        "EXPLANATION:\n",
        "\n",
        "def calculate_stats_at_once():\n",
        "This defines a function named calculate_stats_at_once.\n",
        "\n",
        "Functions let us group reusable blocks of code under one name.\n",
        "\n",
        "Reads a list of numbers.\n",
        "This is a docstring (documentation string).\n",
        "\n",
        "It explains what the function does: it reads a list of numbers and calculates mean, min, and max.\n",
        "while True:\n",
        "Starts a loop that runs forever, unless we break out of it.\n",
        "\n",
        "It's used to keep asking the user for input until it's valid.\n",
        "\n",
        " user_input = input(\"Enter the list of numbers separated by spaces: \")\n",
        "This shows a message to the user and waits for them to type.\n",
        "\n",
        "Example input: 4.5 2 7.8 10\n",
        "\n",
        " numbers_str = user_input.split()\n",
        "Splits the user's input string into a list of separate strings.\n",
        "\n",
        "For example: \"4.5 2 7.8\" → [\"4.5\", \"2\", \"7.8\"]\n",
        "\n",
        " numbers = [float(num) for num in numbers_str]\n",
        "Converts each string in the list into a float number using a list comprehension.\n",
        "So now you get: [4.5, 2.0, 7.8]\n",
        "break\n",
        "If the conversion was successful, we exit the loop.\n",
        " except ValueError:\n",
        "If the user typed something that can’t be converted to a number (like \"abc\"), a ValueError occurs.\n",
        "\n",
        "This line catches that error.\n",
        "\n",
        " print(\"Invalid input. Please enter numbers separated by spaces.\")\n",
        "Shows a helpful message and repeats the loop.\n",
        "if not numbers:\n",
        "This checks if the list is empty (maybe user just pressed Enter without typing any number).\n",
        "print(\"No numbers were entered.\")\n",
        "If the list was empty, it shows a message...\n",
        "\n",
        " return\n",
        "and ends the function early.\n",
        "\n",
        " Now we do the calculations:\n",
        " mean = sum(numbers) / len(numbers)\n",
        "Adds up all the numbers and divides by how many there are → gives the mean (average).\n",
        "\n",
        " minimum = min(numbers)\n",
        "Finds the smallest number.\n",
        " maximum = max(numbers)\n",
        "Finds the largest number.\n",
        "\n",
        " Finally, show the results:\n",
        "print(f\"Mean: {mean}\")\n",
        "print(f\"Minimum: {minimum}\")\n",
        "print(f\"Maximum: {maximum}\")\n",
        " Calling the function:\n",
        "calculate_stats_at_once()\n",
        "\n"
      ],
      "metadata": {
        "id": "9VzCFYg-bneJ"
      }
    },
    {
      "cell_type": "markdown",
      "source": [
        "TASK 2: create a Python function that\n",
        "checks whether a number is an Armstrong number."
      ],
      "metadata": {
        "id": "oywJK1dHe-tO"
      }
    },
    {
      "cell_type": "markdown",
      "source": [
        "Prompt: write a Python function that checks whether a number is an Armstrong number.Ask the user to enter the number."
      ],
      "metadata": {
        "id": "ePSUqeXPhgI6"
      }
    },
    {
      "cell_type": "code",
      "source": [
        "def is_armstrong_number():\n",
        "  \"\"\"Checks if a number entered by the user is an Armstrong number.\"\"\"\n",
        "  while True:\n",
        "    try:\n",
        "      num_str = input(\"Enter a number to check if it's an Armstrong number: \")\n",
        "      num = int(num_str)\n",
        "      if num < 0:\n",
        "        print(\"Please enter a non-negative integer.\")\n",
        "        continue\n",
        "      break\n",
        "    except ValueError:\n",
        "      print(\"Invalid input. Please enter an integer.\")\n",
        "\n",
        "  # Calculate the number of digits\n",
        "  num_digits = len(num_str)\n",
        "\n",
        "  # Calculate the sum of digits raised to the power of the number of digits\n",
        "  sum_of_powers = 0\n",
        "  temp_num = num\n",
        "  while temp_num > 0:\n",
        "    digit = temp_num % 10\n",
        "    sum_of_powers += digit ** num_digits\n",
        "    temp_num //= 10\n",
        "\n",
        "  # Check if it's an Armstrong number\n",
        "  if num == sum_of_powers:\n",
        "    print(f\"{num} is an Armstrong number.\")\n",
        "  else:\n",
        "    print(f\"{num} is not an Armstrong number.\")\n",
        "\n",
        "# Call the function to run it\n",
        "is_armstrong_number()"
      ],
      "metadata": {
        "colab": {
          "base_uri": "https://localhost:8080/"
        },
        "id": "Rgvtg9ZofUa-",
        "outputId": "92c60605-05e1-4af0-d568-bccd11213a85"
      },
      "execution_count": null,
      "outputs": [
        {
          "output_type": "stream",
          "name": "stdout",
          "text": [
            "Enter a number to check if it's an Armstrong number: 153\n",
            "153 is an Armstrong number.\n"
          ]
        }
      ]
    },
    {
      "cell_type": "markdown",
      "source": [
        "A number is an Armstrong number if:\n",
        "\n",
        "The sum of each digit raised to the power of the total number of digits is equal to the original number.\n",
        "\n",
        "Steps in Logic:\n",
        "Input a number from the user.\n",
        "\n",
        "Count how many digits the number has.\n",
        "\n",
        "Break the number into digits.\n",
        "\n",
        "Raise each digit to the power of the total number of digits.\n",
        "\n",
        "Add up all those powered digits.\n",
        "\n",
        "Compare the sum with the original number:\n",
        "\n",
        "If they are equal → it's an Armstrong number.\n",
        "\n",
        "Otherwise: it's not.\n",
        "\n",
        "Example: 9474\n",
        "4 digits → so raise each digit to the power of 4\n",
        "\n",
        "6561+256+2401+256=9474\n",
        "\n",
        " 9474 is an Armstrong number\n",
        "\n"
      ],
      "metadata": {
        "id": "B2WPyYgTkDm9"
      }
    },
    {
      "cell_type": "markdown",
      "source": [
        "![image.png](data:image/png;base64,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)"
      ],
      "metadata": {
        "id": "aJp3tskAZXcf"
      }
    },
    {
      "cell_type": "markdown",
      "source": [
        "![image.png](data:image/png;base64,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)"
      ],
      "metadata": {
        "id": "H4sYDqh3ZUOc"
      }
    },
    {
      "cell_type": "markdown",
      "source": [
        "COMPARSION\n",
        "\n",
        "\n",
        "\n",
        "\n",
        "-In Vs Code\n",
        "\n",
        " total=sum(d** power for d in digits)\n",
        "\n",
        "  it has completed in single line\n",
        "\n",
        "-where as in google collab it has taken a loop and done\n",
        "\n",
        "# Calculate the sum of digits raised to the power of the number of digits\n",
        "  armstrong_sum = 0\n",
        "  for digit in num_str:\n",
        "    armstrong_sum += int(digit) ** num_digits"
      ],
      "metadata": {
        "id": "fjehlWygg5ku"
      }
    },
    {
      "cell_type": "markdown",
      "source": [
        "TASK 3:Explain a Python function (e.g., is_prime(n) or\n",
        "is_palindrome(s)) line by line."
      ],
      "metadata": {
        "id": "zOilYiI1bMym"
      }
    },
    {
      "cell_type": "markdown",
      "source": [
        "Prompt : write a python function code that takes input as an integer to check  the number is both palindrome and prime"
      ],
      "metadata": {
        "id": "uBA_7T3chzcy"
      }
    },
    {
      "cell_type": "code",
      "source": [
        "def is_prime(n):\n",
        "  \"\"\"\n",
        "  Checks if a number is prime.\n",
        "  \"\"\"\n",
        "  if n <= 1:\n",
        "    return False\n",
        "  for i in range(2, int(n**0.5) + 1):\n",
        "    if n % i == 0:\n",
        "      return False\n",
        "  return True\n",
        "\n",
        "def is_palindrome(s):\n",
        "  \"\"\"\n",
        "  Checks if a string is a palindrome.\n",
        "  \"\"\"\n",
        "  # Convert number to string for palindrome check\n",
        "  s = str(s)\n",
        "  # Remove spaces and convert to lowercase for case-insensitive and space-insensitive check\n",
        "  s = s.replace(\" \", \"\").lower()\n",
        "  # Compare the string with its reverse\n",
        "  return s == s[::-1]\n",
        "\n",
        "def is_prime_and_palindrome(n):\n",
        "  \"\"\"\n",
        "  Checks if a number is both prime and a palindrome.\n",
        "\n",
        "  Args:\n",
        "    n: An integer.\n",
        "\n",
        "  Returns:\n",
        "    True if the number is both prime and a palindrome, False otherwise.\n",
        "  \"\"\"\n",
        "  if is_prime(n) and is_palindrome(n):\n",
        "    return True\n",
        "  else:\n",
        "    return False\n",
        "\n",
        "# Example usage:\n",
        "number_to_check = 131\n",
        "\n",
        "if is_prime_and_palindrome(number_to_check):\n",
        "  print(f\"{number_to_check} is both a prime number and a palindrome.\")\n",
        "else:\n",
        "  print(f\"{number_to_check} is not both a prime number and a palindrome.\")\n",
        "\n",
        "number_to_check_2 = 123\n",
        "\n",
        "if is_prime_and_palindrome(number_to_check_2):\n",
        "  print(f\"{number_to_check_2} is both a prime number and a palindrome.\")\n",
        "else:\n",
        "  print(f\"{number_to_check_2} is not both a prime number and a palindrome.\")\n",
        "\n",
        "number_to_check_3 = 121\n",
        "\n",
        "if is_prime_and_palindrome(number_to_check_3):\n",
        "  print(f\"{number_to_check_3} is both a prime number and a palindrome.\")\n",
        "else:\n",
        "  print(f\"{number_to_check_3} is not both a prime number and a palindrome.\")"
      ],
      "metadata": {
        "colab": {
          "base_uri": "https://localhost:8080/"
        },
        "id": "mBAjq1TDd3-c",
        "outputId": "29daf477-2068-40bb-85f1-d86ae044af5d"
      },
      "execution_count": null,
      "outputs": [
        {
          "output_type": "stream",
          "name": "stdout",
          "text": [
            "131 is both a prime number and a palindrome.\n",
            "123 is not both a prime number and a palindrome.\n",
            "121 is not both a prime number and a palindrome.\n"
          ]
        }
      ]
    },
    {
      "cell_type": "markdown",
      "source": [
        "Explanation:\n",
        "is_prime(n): This checks if a number n can only be divided by 1 and itself (meaning it's a prime number).\n",
        "\n",
        "is_palindrome(s): This checks if a word, phrase, or number reads the same forwards and backward (like \"madam\" or 121). It ignores spaces and capitalization.\n",
        "\n",
        "is_prime_and_palindrome(n): This function uses the first two to check if a number is both prime and reads the same forwards and backward.\n",
        "\n",
        "The rest of the code shows examples of how to use the is_prime_and_palindrome function and prints the results."
      ],
      "metadata": {
        "id": "1eowELySekgT"
      }
    },
    {
      "cell_type": "markdown",
      "source": [
        "TASK 4:Use it to generate a Python\n",
        "function (e.g., sum of the first N natural numbers) and test its\n",
        "output."
      ],
      "metadata": {
        "id": "AILc6iUbenfs"
      }
    },
    {
      "cell_type": "markdown",
      "source": [
        "Prompt: write a python code which calculates the sum of the first N natural numbers."
      ],
      "metadata": {
        "id": "UzeXR6U0iR8-"
      }
    },
    {
      "cell_type": "code",
      "source": [
        "def sum_of_natural_numbers(n):\n",
        "  \"\"\"Calculates the sum of the first n natural numbers.\"\"\"\n",
        "  if n < 1:\n",
        "    return \"Please enter a positive integer.\"\n",
        "  else:\n",
        "    return n * (n + 1) // 2\n",
        "\n",
        "# Example usage:\n",
        "num = 10\n",
        "sum_n = sum_of_natural_numbers(num)\n",
        "print(f\"The sum of the first {num} natural numbers is: {sum_n}\")\n",
        "\n",
        "num_2 = 5\n",
        "sum_n_2 = sum_of_natural_numbers(num_2)\n",
        "print(f\"The sum of the first {num_2} natural numbers is: {sum_n_2}\")"
      ],
      "metadata": {
        "colab": {
          "base_uri": "https://localhost:8080/"
        },
        "id": "Nd7DGsCHe6zm",
        "outputId": "31cf6b88-773c-4551-eaa4-28d17ac3090f"
      },
      "execution_count": null,
      "outputs": [
        {
          "output_type": "stream",
          "name": "stdout",
          "text": [
            "The sum of the first 10 natural numbers is: 55\n",
            "The sum of the first 5 natural numbers is: 15\n"
          ]
        }
      ]
    },
    {
      "cell_type": "markdown",
      "source": [
        "Explanation:\n",
        "\n",
        "sum_of_first_n_natural_numbers(n): This function calculates the sum of the first n positive whole numbers (1 + 2 + 3 + ... + n). It uses a quick math formula to do this.\n",
        "\n",
        "The rest of the code asks you to enter a positive whole number, uses the function to find the sum, and then prints the result. If you don't enter a positive whole number, it will show an error message."
      ],
      "metadata": {
        "id": "urpMVwzyfV3-"
      }
    },
    {
      "cell_type": "markdown",
      "source": [
        " TASK 5: Write a Python program to calculate the sum of\n",
        "odd numbers and even numbers in a given tuple."
      ],
      "metadata": {
        "id": "sYn6yW0sgCdu"
      }
    },
    {
      "cell_type": "markdown",
      "source": [
        "Prompt: write a python function to calculate the sum of odd numbers and even numbers in a given tuple"
      ],
      "metadata": {
        "id": "Zl2NP9ZViq5Z"
      }
    },
    {
      "cell_type": "code",
      "source": [
        "def sum_odd_even(numbers_tuple):\n",
        "  \"\"\"\n",
        "  Calculates the sum of odd and even numbers in a given tuple.\n",
        "\n",
        "  Args:\n",
        "    numbers_tuple: A tuple of numbers.\n",
        "\n",
        "  Returns:\n",
        "    A tuple containing the sum of odd numbers and the sum of even numbers.\n",
        "  \"\"\"\n",
        "  sum_even = 0\n",
        "  sum_odd = 0\n",
        "  for number in numbers_tuple:\n",
        "    if number % 2 == 0:\n",
        "      sum_even += number\n",
        "    else:\n",
        "      sum_odd += number\n",
        "  return (sum_odd, sum_even)\n",
        "\n",
        "# Example usage:\n",
        "my_tuple = (1, 2, 3, 4, 5, 6, 7, 8, 9, 10)\n",
        "odd_sum, even_sum = sum_odd_even(my_tuple)\n",
        "\n",
        "print(f\"The tuple is: {my_tuple}\")\n",
        "print(f\"Sum of odd numbers: {odd_sum}\")\n",
        "print(f\"Sum of even numbers: {even_sum}\")\n",
        "\n",
        "# Another example:\n",
        "another_tuple = (15, 22, 31, 40, 55)\n",
        "odd_sum_2, even_sum_2 = sum_odd_even(another_tuple)\n",
        "\n",
        "print(f\"\\nThe tuple is: {another_tuple}\")\n",
        "print(f\"Sum of odd numbers: {odd_sum_2}\")\n",
        "print(f\"Sum of even numbers: {even_sum_2}\")"
      ],
      "metadata": {
        "colab": {
          "base_uri": "https://localhost:8080/"
        },
        "id": "mpdHUUmGgVRL",
        "outputId": "c30b151a-bb16-4557-a510-f561d8e44f61"
      },
      "execution_count": null,
      "outputs": [
        {
          "output_type": "stream",
          "name": "stdout",
          "text": [
            "The tuple is: (1, 2, 3, 4, 5, 6, 7, 8, 9, 10)\n",
            "Sum of odd numbers: 25\n",
            "Sum of even numbers: 30\n",
            "\n",
            "The tuple is: (15, 22, 31, 40, 55)\n",
            "Sum of odd numbers: 101\n",
            "Sum of even numbers: 62\n"
          ]
        }
      ]
    },
    {
      "cell_type": "markdown",
      "source": [
        "Explanation:\n",
        "\n",
        "The code defines a function sum_odd_even that takes a list of numbers (in a tuple).\n",
        "\n",
        "It goes through each number in the list and adds it to either a sum for odd numbers or a sum for even numbers.\n",
        "\n",
        "Finally, it gives you back the total sum of all the odd numbers and the total sum of all the even numbers from the list.\n",
        "\n",
        "The rest of the code shows examples of how to use this function and prints the results for sample lists."
      ],
      "metadata": {
        "id": "1RGFsfPzgzEq"
      }
    }
  ]
}